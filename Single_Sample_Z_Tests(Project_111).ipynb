{
  "nbformat": 4,
  "nbformat_minor": 0,
  "metadata": {
    "colab": {
      "name": "Single Sample Z-Tests(Project- 111)",
      "provenance": [],
      "collapsed_sections": [],
      "authorship_tag": "ABX9TyN1jvcD+vxcM4K397Eh8M8H",
      "include_colab_link": true
    },
    "kernelspec": {
      "name": "python3",
      "display_name": "Python 3"
    },
    "language_info": {
      "name": "python"
    }
  },
  "cells": [
    {
      "cell_type": "markdown",
      "metadata": {
        "id": "view-in-github",
        "colab_type": "text"
      },
      "source": [
        "<a href=\"https://colab.research.google.com/github/Anup12year/Anup12year/blob/main/Single_Sample_Z_Tests(Project_111).ipynb\" target=\"_parent\"><img src=\"https://colab.research.google.com/assets/colab-badge.svg\" alt=\"Open In Colab\"/></a>"
      ]
    },
    {
      "cell_type": "code",
      "execution_count": 7,
      "metadata": {
        "colab": {
          "base_uri": "https://localhost:8080/",
          "height": 108,
          "resources": {
            "http://localhost:8080/nbextensions/google.colab/files.js": {
              "data": "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",
              "ok": true,
              "headers": [
                [
                  "content-type",
                  "application/javascript"
                ]
              ],
              "status": 200,
              "status_text": ""
            }
          }
        },
        "id": "_3cv2D8piOuR",
        "outputId": "7925224a-8ec3-4e55-976f-c7e4de0952a2"
      },
      "outputs": [
        {
          "output_type": "display_data",
          "data": {
            "text/plain": [
              "<IPython.core.display.HTML object>"
            ],
            "text/html": [
              "\n",
              "     <input type=\"file\" id=\"files-2f4a7409-d5bd-46d5-8dda-5c47fd8db618\" name=\"files[]\" multiple disabled\n",
              "        style=\"border:none\" />\n",
              "     <output id=\"result-2f4a7409-d5bd-46d5-8dda-5c47fd8db618\">\n",
              "      Upload widget is only available when the cell has been executed in the\n",
              "      current browser session. Please rerun this cell to enable.\n",
              "      </output>\n",
              "      <script src=\"/nbextensions/google.colab/files.js\"></script> "
            ]
          },
          "metadata": {}
        },
        {
          "output_type": "stream",
          "name": "stdout",
          "text": [
            "Saving sample_2.csv to sample_2.csv\n",
            "Saving data.csv to data (1).csv\n"
          ]
        }
      ],
      "source": [
        "from google.colab import files\n",
        "data_to_load = files.upload()"
      ]
    },
    {
      "cell_type": "code",
      "source": [
        "import statistics;\n",
        "import plotly.graph_objects as go;\n",
        "import plotly.figure_factory as ff;\n",
        "import pandas as pd;\n",
        "import random;\n",
        "data = pd.read_csv(\"data.csv\");\n",
        "dataList = data[\"reading_time\"].tolist();\n",
        "\n",
        "populationMean = statistics.mean(dataList);\n",
        "print(\"Population Mean:\",populationMean);\n",
        "\n",
        "def random_mean_set(counter):\n",
        "  dataSet = [];\n",
        "  for i in range(0,counter):\n",
        "    randomIndex = random.randint(0,len(dataList));\n",
        "    value = dataList[randomIndex];\n",
        "    dataSet.append(value);\n",
        "  randomMean = statistics.mean(dataSet);\n",
        "  return randomMean;\n",
        "\n",
        "def show_fig(meanList):\n",
        "  figData = meanList;\n",
        "\n",
        "  fig = ff.create_distplot([figData],[\"Reading Time\"],show_hist = False);\n",
        "\n",
        "  samplingMean = statistics.mean(meanList);\n",
        "  sd = statistics.stdev(meanList);\n",
        "  \n",
        "  sd1_str,sd1_end = samplingMean - sd,samplingMean + sd;\n",
        "  sd2_str,sd2_end = samplingMean - (2*sd),samplingMean + (2*sd);\n",
        "  sd3_str,sd3_end = samplingMean - (3*sd),samplingMean + (3*sd);\n",
        "  \n",
        "  print(\"\\nStandard Deviation 1:\",sd1_str,\",\",sd1_end);\n",
        "  print(\"Standard Deviation 2:\",sd2_str,\",\",sd2_end);\n",
        "  print(\"Standard Deviation 3:\",sd3_str,\",\",sd3_end);\n",
        "\n",
        "  fig.add_trace(go.Scatter(x = [sd1_str,sd1_str],y = [0,0.8]));\n",
        "  fig.add_trace(go.Scatter(x = [sd1_end,sd1_end],y = [0,0.8]));\n",
        "  fig.add_trace(go.Scatter(x = [sd2_str,sd2_str],y = [0,0.8]));\n",
        "  fig.add_trace(go.Scatter(x = [sd2_end,sd2_end],y = [0,0.8]));\n",
        "  fig.add_trace(go.Scatter(x = [sd3_str,sd3_str],y = [0,0.8]));\n",
        "  fig.add_trace(go.Scatter(x = [sd3_end,sd3_end],y = [0,0.8]));\n",
        "\n",
        "\n",
        "  fig.add_trace(go.Scatter(x = [samplingMean,samplingMean],y = [0,0.8]));\n",
        "  sampleMean = statistics.mean(dataList);\n",
        "  fig.add_trace(go.Scatter(x = [sampleMean,sampleMean],y = [0,0.8]));\n",
        "  \n",
        "  zTest = (sampleMean - samplingMean)/sd;\n",
        "  print(\"\\nZ Test:\",zTest);\n",
        "\n",
        "  fig.show();\n",
        "\n",
        "meanList = [];\n",
        "for i in range(0,100):\n",
        "  meanSet = random_mean_set(30);\n",
        "  meanList.append(meanSet);\n",
        "show_fig(meanList);"
      ],
      "metadata": {
        "colab": {
          "base_uri": "https://localhost:8080/",
          "height": 663
        },
        "id": "Gdf2PkF7Gaot",
        "outputId": "ce63bcfb-85bd-4c0f-d53a-97736a68a7bb"
      },
      "execution_count": 11,
      "outputs": [
        {
          "output_type": "stream",
          "name": "stdout",
          "text": [
            "Population Mean: 6.134910878918254\n",
            "\n",
            "Standard Deviation 1: 5.588731219697321 , 6.805268780302679\n",
            "Standard Deviation 2: 4.980462439394642 , 7.413537560605358\n",
            "Standard Deviation 3: 4.372193659091963 , 8.021806340908038\n",
            "\n",
            "Z Test: -0.10207514028724238\n"
          ]
        },
        {
          "output_type": "display_data",
          "data": {
            "text/html": [
              "<html>\n",
              "<head><meta charset=\"utf-8\" /></head>\n",
              "<body>\n",
              "    <div>            <script src=\"https://cdnjs.cloudflare.com/ajax/libs/mathjax/2.7.5/MathJax.js?config=TeX-AMS-MML_SVG\"></script><script type=\"text/javascript\">if (window.MathJax) {MathJax.Hub.Config({SVG: {font: \"STIX-Web\"}});}</script>                <script type=\"text/javascript\">window.PlotlyConfig = {MathJaxConfig: 'local'};</script>\n",
              "        <script src=\"https://cdn.plot.ly/plotly-2.8.3.min.js\"></script>                <div id=\"a28d0f58-74ab-47e4-930f-c88305e21495\" class=\"plotly-graph-div\" style=\"height:525px; width:100%;\"></div>            <script type=\"text/javascript\">                                    window.PLOTLYENV=window.PLOTLYENV || {};                                    if (document.getElementById(\"a28d0f58-74ab-47e4-930f-c88305e21495\")) {                    Plotly.newPlot(                        \"a28d0f58-74ab-47e4-930f-c88305e21495\",                        [{\"legendgroup\":\"Reading Time\",\"marker\":{\"color\":\"rgb(31, 119, 180)\"},\"mode\":\"lines\",\"name\":\"Reading Time\",\"showlegend\":true,\"x\":[5.0,5.006,5.012,5.018,5.024,5.03,5.036,5.042,5.048,5.054,5.06,5.066,5.072,5.078,5.084,5.09,5.096,5.102,5.108,5.114,5.12,5.126,5.132,5.138,5.144,5.15,5.156,5.162,5.168,5.174,5.18,5.186,5.192,5.198,5.204,5.21,5.216,5.222,5.228,5.234,5.24,5.246,5.252,5.258,5.264,5.27,5.276,5.282,5.288,5.294,5.3,5.306,5.312,5.318,5.324,5.33,5.336,5.342,5.348,5.354,5.36,5.366,5.372,5.378,5.384,5.39,5.396,5.402,5.408,5.414,5.42,5.426,5.432,5.438,5.444,5.45,5.456,5.462,5.468,5.474,5.48,5.486,5.492,5.498,5.504,5.51,5.516,5.522,5.5280000000000005,5.534,5.54,5.546,5.552,5.558,5.564,5.57,5.576,5.582,5.588,5.594,5.6,5.606,5.612,5.618,5.624,5.63,5.636,5.642,5.648,5.654,5.66,5.666,5.672,5.678,5.684,5.6899999999999995,5.696,5.702,5.708,5.714,5.72,5.726,5.732,5.7379999999999995,5.744,5.75,5.756,5.7620000000000005,5.768,5.774,5.78,5.786,5.792,5.798,5.804,5.8100000000000005,5.816,5.822,5.828,5.834,5.84,5.846,5.852,5.858,5.864,5.87,5.876,5.882,5.888,5.894,5.9,5.906,5.912,5.918,5.924,5.93,5.936,5.942,5.948,5.954,5.96,5.966,5.9719999999999995,5.978,5.984,5.99,5.996,6.002,6.008,6.014,6.02,6.026,6.032,6.038,6.0440000000000005,6.05,6.056,6.062,6.068,6.074,6.08,6.086,6.0920000000000005,6.098,6.104,6.11,6.116,6.122,6.128,6.134,6.14,6.146,6.152,6.1579999999999995,6.164,6.17,6.176,6.182,6.188,6.194,6.2,6.2059999999999995,6.212,6.218,6.224,6.23,6.236,6.242,6.248,6.254,6.26,6.266,6.272,6.2780000000000005,6.284,6.29,6.296,6.302,6.308,6.314,6.32,6.3260000000000005,6.332,6.338,6.344,6.35,6.356,6.362,6.368,6.3740000000000006,6.38,6.386,6.3919999999999995,6.398,6.404,6.41,6.416,6.422,6.428,6.434,6.4399999999999995,6.446,6.452,6.458,6.464,6.47,6.476,6.482,6.4879999999999995,6.494,6.5,6.506,6.5120000000000005,6.518,6.524,6.53,6.536,6.542,6.548,6.554,6.5600000000000005,6.566,6.572,6.578,6.584,6.59,6.596,6.602,6.6080000000000005,6.614,6.62,6.6259999999999994,6.632,6.638,6.644,6.65,6.656,6.662,6.668,6.6739999999999995,6.68,6.686,6.692,6.698,6.704,6.71,6.716,6.7219999999999995,6.728,6.734,6.74,6.746,6.752,6.758,6.764,6.77,6.776,6.782,6.788,6.7940000000000005,6.8,6.806,6.812,6.818,6.824,6.83,6.836,6.8420000000000005,6.848,6.854,6.86,6.866,6.872,6.878,6.884,6.89,6.896,6.902,6.9079999999999995,6.914,6.92,6.926,6.932,6.938,6.944,6.95,6.9559999999999995,6.962,6.968,6.974,6.98,6.986,6.992,6.998,7.004,7.01,7.016,7.022,7.0280000000000005,7.034,7.04,7.045999999999999,7.052,7.058,7.064,7.07,7.0760000000000005,7.082,7.088,7.093999999999999,7.1,7.106,7.112,7.118,7.1240000000000006,7.13,7.136,7.1419999999999995,7.148,7.154,7.16,7.166,7.172000000000001,7.178,7.184,7.1899999999999995,7.196,7.202,7.208,7.214,7.220000000000001,7.226,7.232,7.2379999999999995,7.244,7.25,7.256,7.2620000000000005,7.268,7.274,7.279999999999999,7.286,7.292,7.298,7.304,7.3100000000000005,7.316,7.322,7.327999999999999,7.334,7.34,7.346,7.352,7.3580000000000005,7.364,7.37,7.3759999999999994,7.382,7.388,7.394,7.4,7.406000000000001,7.412,7.418,7.4239999999999995,7.43,7.436,7.442,7.448,7.454000000000001,7.46,7.466,7.4719999999999995,7.478,7.484,7.49,7.496,7.502,7.508,7.513999999999999,7.52,7.526,7.532,7.538,7.5440000000000005,7.55,7.556,7.561999999999999,7.568,7.574,7.58,7.586,7.5920000000000005,7.598,7.604,7.609999999999999,7.616,7.622,7.628,7.634,7.640000000000001,7.646,7.652,7.6579999999999995,7.664,7.67,7.676,7.682,7.688000000000001,7.694,7.7,7.7059999999999995,7.712,7.718,7.724,7.73,7.736000000000001,7.742,7.748,7.754,7.76,7.766,7.772,7.7780000000000005,7.784,7.79,7.795999999999999,7.802,7.808,7.814,7.82,7.8260000000000005,7.832,7.838,7.843999999999999,7.85,7.856,7.862,7.868,7.8740000000000006,7.88,7.886,7.8919999999999995,7.898,7.904,7.91,7.916,7.922000000000001,7.928,7.934,7.9399999999999995,7.946,7.952,7.958,7.964,7.970000000000001,7.976,7.982,7.9879999999999995,7.994],\"xaxis\":\"x\",\"y\":[0.114753003419768,0.11757632764930323,0.1204380701671347,0.12333780376195491,0.12627506167532745,0.12924933687619222,0.1322600814043692,0.13530670578990459,0.13838857855504977,0.14150502580560612,0.1446553309182259,0.14783873433011396,0.15105443343735042,0.15430158260782526,0.1575792933144608,0.16088663439407758,0.16422263243686652,0.1675862723110246,0.17097649782663646,0.17439221254239395,0.1778322807182013,0.18129552841615187,0.18478074475174658,0.1882866832965984,0.19181206363319206,0.19535557306159904,0.1989158684573162,0.202491578278691,0.2060813047216274,0.20968362601854237,0.2132970988777549,0.21692026105874213,0.2205516340779162,0.22418972603883508,0.22783303457998624,0.23148004993256632,0.23512925807992252,0.23877914400966763,0.242428195048756,0.24607490427119305,0.2497177739674113,0.25335531916379156,0.2569860711802479,0.2606085812133151,0.2642214239317177,0.2678232010710192,0.27141254501359563,0.27498812233988484,0.27854863733665863,0.28209283544787145,0.28561950665355296,0.28912748876216293,0.2926156706018664,0.29608299509626657,0.29952846221031126,0.3029511317523072,0.30635012601829,0.309724632265358,0.3130739050010263,0.3163972680761434,0.3196941165695189,0.32296391845300787,0.326206216026536,0.3294206271132752,0.33260684600603024,0.3357646441567521,0.33889387060203213,0.34199445211839496,0.3450663931022529,0.3481097751704254,0.3511247564782461,0.35411157075339417,0.3570705260447778,0.36000200318695047,0.36290645398176924,0.3657843991002009,0.36863642570842026,0.3714631848235608,0.3742653884056981,0.37704380619385697,0.3797992622950375,0.3825326315364112,0.38524483559200323,0.38793683889627234,0.39060964435808615,0.3932642888896194,0.3959018387656638,0.39852338482978894,0.4011300375646355,0.40372292204442806,0.4063031727885206,0.40887192853543364,0.4114303269574296,0.41397949933614353,0.4165205652201995,0.4190546270860627,0.4215827650235793,0.42410603146780584,0.4266254459987381,0.4291419902304994,0.4316566028113693,0.43417017455577955,0.4366835437290209,0.4391974915049673,0.44171273761654195,0.444229936218007,0.44674967197739984,0.4492724564166142,0.4517987245156806,0.45432883159681176,0.45686305050266074,0.45940156908211177,0.4619444879956608,0.46449181885116636,0.46704348267938095,0.46959930875729194,0.4721590337858275,0.47472230142700594,0.4772886622041025,0.47985757376684823,0.4824284015221322,0.48500041962912505,0.4875728123561626,0.49014467579519977,0.49271501992809547,0.49528277103748614,0.49784677445353037,0.5004057976263723,0.5029585335127723,0.5055036042640417,0.5080395652011181,0.5105649090614391,0.5130780705011302,0.5155774308349734,0.5180613229956589,0.5205280366929483,0.5229758237525985,0.5254029036142019,0.5278074689665199,0.5301876914984116,0.532541727743065,0.5348677249929772,0.5371638272629636,0.5394281812783988,0.5416589424659622,0.5438542809242606,0.5460123873520049,0.5481314789116968,0.5502098050072761,0.5522456529546642,0.5542373535247713,0.5561832863392437,0.5580818850999677,0.5599316426342078,0.5617311157381727,0.5634789298027411,0.5651737832061133,0.566814451459215,0.568399791090768,0.569928743260085,0.5714003370867938,0.5728136926878634,0.5741680239135001,0.5754626407746587,0.5766969515560983,0.5778704646100972,0.5789827898270887,0.5800336397806454,0.581022830545326,0.5819502821870183,0.5828160189264467,0.5836201689775369,0.5843629640633048,0.5850447386128811,0.5856659286441472,0.5862270703373283,0.5867287983056618,0.5871718435700027,0.5875570312449377,0.5878852779446045,0.5881575889170276,0.5883750549163168,0.5885388488225886,0.5886502220199301,0.5887105005431439,0.5887210810043896,0.5886834263111979,0.5885990611876192,0.5884695675105878,0.5882965794738042,0.588081778591691,0.5878268885561884,0.5875336699593474,0.5872039148948555,0.5868394414518138,0.586442088114229,0.5860137080798521,0.5855561635121262,0.585071319739184,0.5845610394139359,0.584027176649479,0.5834715711441617,0.5828960423108066,0.5823023834247179,0.5816923558052552,0.5810676830458639,0.5804300453076198,0.5797810736914263,0.5791223447041518,0.5784553748340605,0.577781615251002,0.5771024466468562,0.5764191742318,0.5757330229019355,0.5750451325938257,0.5743565538414013,0.5736682435506119,0.5729810610070323,0.5722957641314453,0.5716130059981627,0.5709333316305168,0.570257175087609,0.5695848568559104,0.5689165815588421,0.5682524359968304,0.5675923875297015,0.5669362828125205,0.566283846895163,0.5656346826950244,0.5649882708512647,0.5643439699679719,0.5637010172524617,0.5630585295537486,0.5624155048049313,0.5617708238719095,0.5611232528094232,0.5604714455239537,0.5598139468415048,0.5591491959767132,0.55847553039815,0.5577911900830224,0.5570943221528529,0.5563829858800217,0.555655158053401,0.5549087386896357,0.5541415570749679,0.553351378120885,0.5525359090152595,0.551692806149131,0.5508196822977508,0.5499141140331246,0.5489736493439131,0.5479958154372957,0.5469781266962479,0.5459180927645934,0.5448132267312881,0.5436610533845131,0.5424591175055026,0.5412049921714411,0.5398962870363536,0.5385306565586375,0.5371058081437484,0.5356195101705984,0.534069599870391,0.5324539910269659,0.5307706814682203,0.5290177603188344,0.5271934149853164,0.5252959378453687,0.5233237326146616,0.5212753203653527,0.5191493451720915,0.5169445793627401,0.5146599283527022,0.5122944350434875,0.5098472837680048,0.5073178037670256,0.5047054721832978,0.5020099165618878,0.49923091684751686,0.49636840687185535,0.49342247532601485,0.49039336621573665,0.4872814787990838,0.4840873670087213,0.48081173836314633,0.4774554523734902,0.4740195184546907,0.47050509335202556,0.4669134780960653,0.4632461145011293,0.4595045812242503,0.45569058940350926,0.4518059778962913,0.4478527081396717,0.44383285865658884,0.4397486192328433,0.4356022847911847,0.43139624898980616,0.4271329975735234,0.4228151015066754,0.4184452099174195,0.4140260428835725,0.40956038409044193,0.4050510733912667,0.4005009993008973,0.3959130914531657,0.391290313052133,0.38663565334692007,0.38195212015926766,0.37724273249223245,0.3725105132475665,0.36775848207836165,0.3629896484024402,0.3582070046007617,0.35341351942382937,0.34861213162766547,0.34380574385947715,0.33899721681155626,0.3341893636603708,0.3293849448061425,0.324586662926483,0.31979715835595496,0.31501900480164674,0.31025470540308653,0.30550668914306384,0.30077730761414434,0.2960688321439312,0.2913834512804183,0.2867232686370649,0.2820903010956187,0.2774864773630996,0.27291363687782794,0.2683735290579342,0.2638678128843627,0.25939805680908284,0.25496573897799074,0.2505722477568093,0.2462188825472612,0.24190685487980984,0.23763728976839082,0.2334112273117993,0.2292296245256984,0.22509335738867503,0.22100322308526069,0.216959942428491,0.2129641624442796,0.20901645909972394,0.20511734015735614,0.20126724813738783,0.19746656337006324,0.1937156071204637,0.19001464476832736,0.18636388902583573,0.18276350317671564,0.17921360432050257,0.17571426660636866,0.17226552444153373,0.16886737565994006,0.16551978463760542,0.16222268534181092,0.15897598430210247,0.15577956349190178,0.15263328311039365,0.1495369842552307,0.14649049147751256,0.14349361521137774,0.1405461540715023,0.13764789701267915,0.13479862534659542,0.13199811461181507,0.12924613629387474,0.12654245939327508,0.12388685184001108,0.12127908175410512,0.11871891855242923,0.1162061339028561,0.1137405025275348,0.11132180285778072,0.10894981754373687,0.10662433382259201,0.10434514374971288,0.10211204429760058,0.09992483732806183,0.09778332944343977,0.095687331723155,0.09363665935215318,0.09163113114817256,0.08967056899500751,0.08775479718915137,0.08588364170738966,0.08405692940302513,0.08227448713851267,0.08053614086231826,0.07884171463781942,0.07719102963202569,0.07558390307182856,0.07402014717537025,0.07249956806599184,0.07102196467603233,0.06958712764755948,0.06819483823687547,0.06684486722939098,0.06553697387118093,0.06427090482324603,0.06304639314418069,0.061863157306632825,0.060720900252589353,0.05961930849217803,0.05855805125031546,0.05753677966516723,0.056555126042019725,0.05561270316579658,0.05470910367508065,0.053843899500145107,0.053016641367129386,0.05222685837014918,0.051474057612780164,0.050757723920019204,0.05007731962150476,0.04943228440645992,0.048822035250527016,0.048245966414371795,0.04770344951366726,0.04719383365981096,0.046716445670488764,0.046270590348976195,0.04585555083086252,0.04547058899669036,0.04511494594883475,0.044787842550784954,0.04448848002685531,0.044216040620226334,0.04396968830710801,0.0437485695647239,0.04355181419073586,0.04337853617166118,0.0432278345977818,0.04309879462200287,0.04299048846008662,0.04290197642966666,0.04283230802543476,0.04278052302788795,0.0427456526430257,0.04272672067039456,0.04272274469689109,0.04273273731374866,0.04275570735415535,0.04279066114896911,0.04283660379802046,0.042892540454514905,0.042957477620069975,0.043030424447943375,0.043110394052028746,0.043196404819213705,0.04328748172271029,0.043382657633981886,0.043480974630900594,0.043581485299777074,0.043683254028909935,0.0437853582913037,0.04388688991420461,0.04398695633310138,0.04408468182783363,0.04417920873844557,0.04426969865841741,0.0443553336028991,0.04443531714956778,0.044508875549723916,0.044575258807240746,0.04463374172298097,0.04468362490229995,0.04472423572326264,0.04475492926321671,0.044775089181383225,0.04478412855515468,0.044781490667824414,0.04476664974551512,0.04473911164112619,0.044698414463181936,0.04464412914753598,0.04457585996996813,0.04449324499780688,0.044395956478814294,0.044283701165688104,0.04415622057466386,0.04401329117684276,0.04385472452101838,0.04368036728694445,0.043490101268153926,0.043283843283629525,0.04306154501781672,0.04282319278867515,0.042568807243676156,0.042298442983874536,0.04201218811640606,0.04171016373599726,0.041392523336305935,0.04105945215215363,0.04071116643394779],\"yaxis\":\"y\",\"type\":\"scatter\"},{\"legendgroup\":\"Reading Time\",\"marker\":{\"color\":\"rgb(31, 119, 180)\",\"symbol\":\"line-ns-open\"},\"mode\":\"markers\",\"name\":\"Reading Time\",\"showlegend\":false,\"x\":[6.2,6.6,6.166666666666667,6.6,5.966666666666667,5,7.1,5.533333333333333,5.933333333333334,7.2,6.3,6.633333333333334,5.833333333333333,6.5,5.366666666666666,6.233333333333333,6.333333333333333,6.733333333333333,6,6.3,5.666666666666667,5,5.466666666666667,5.9,6.366666666666666,6.233333333333333,6.3,6.366666666666666,6.633333333333334,5.533333333333333,5.5,6.266666666666667,6.8,6.5,6.033333333333333,6.033333333333333,8,5.933333333333334,6.633333333333334,6.433333333333334,5.8,6.866666666666666,6.466666666666667,5.433333333333334,5.833333333333333,6.666666666666667,5.6,5.933333333333334,6.833333333333333,6.8,5.966666666666667,6.1,5.933333333333334,7.933333333333334,5.5,7.3,7,6.666666666666667,5.7,5.166666666666667,6.733333333333333,6.033333333333333,5.333333333333333,5.533333333333333,7.1,6.3,6.566666666666666,6.333333333333333,7.7,6.9,5.666666666666667,6.733333333333333,5.3,5.9,5.4,7,6.066666666666666,5.633333333333334,5.733333333333333,5.833333333333333,5.466666666666667,6.566666666666666,6.733333333333333,6.633333333333334,5.733333333333333,6.1,6.233333333333333,6.6,5.933333333333334,6.066666666666666,6.033333333333333,6.633333333333334,6.666666666666667,5.933333333333334,5.3,6.233333333333333,6.166666666666667,5.266666666666667,5.266666666666667,6.7],\"xaxis\":\"x\",\"y\":[\"Reading Time\",\"Reading Time\",\"Reading Time\",\"Reading Time\",\"Reading Time\",\"Reading Time\",\"Reading Time\",\"Reading Time\",\"Reading Time\",\"Reading Time\",\"Reading Time\",\"Reading Time\",\"Reading Time\",\"Reading Time\",\"Reading Time\",\"Reading Time\",\"Reading Time\",\"Reading Time\",\"Reading Time\",\"Reading Time\",\"Reading Time\",\"Reading Time\",\"Reading Time\",\"Reading Time\",\"Reading Time\",\"Reading Time\",\"Reading Time\",\"Reading Time\",\"Reading Time\",\"Reading Time\",\"Reading Time\",\"Reading Time\",\"Reading Time\",\"Reading Time\",\"Reading Time\",\"Reading Time\",\"Reading Time\",\"Reading Time\",\"Reading Time\",\"Reading Time\",\"Reading Time\",\"Reading Time\",\"Reading Time\",\"Reading Time\",\"Reading Time\",\"Reading Time\",\"Reading Time\",\"Reading Time\",\"Reading Time\",\"Reading Time\",\"Reading Time\",\"Reading Time\",\"Reading Time\",\"Reading Time\",\"Reading Time\",\"Reading Time\",\"Reading Time\",\"Reading Time\",\"Reading Time\",\"Reading Time\",\"Reading Time\",\"Reading Time\",\"Reading Time\",\"Reading Time\",\"Reading Time\",\"Reading Time\",\"Reading Time\",\"Reading Time\",\"Reading Time\",\"Reading Time\",\"Reading Time\",\"Reading Time\",\"Reading Time\",\"Reading Time\",\"Reading Time\",\"Reading Time\",\"Reading Time\",\"Reading Time\",\"Reading Time\",\"Reading Time\",\"Reading Time\",\"Reading Time\",\"Reading Time\",\"Reading Time\",\"Reading Time\",\"Reading Time\",\"Reading Time\",\"Reading Time\",\"Reading Time\",\"Reading Time\",\"Reading Time\",\"Reading Time\",\"Reading Time\",\"Reading Time\",\"Reading Time\",\"Reading Time\",\"Reading Time\",\"Reading Time\",\"Reading Time\",\"Reading Time\"],\"yaxis\":\"y2\",\"type\":\"scatter\"},{\"x\":[5.588731219697321,5.588731219697321],\"y\":[0,0.8],\"type\":\"scatter\"},{\"x\":[6.805268780302679,6.805268780302679],\"y\":[0,0.8],\"type\":\"scatter\"},{\"x\":[4.980462439394642,4.980462439394642],\"y\":[0,0.8],\"type\":\"scatter\"},{\"x\":[7.413537560605358,7.413537560605358],\"y\":[0,0.8],\"type\":\"scatter\"},{\"x\":[4.372193659091963,4.372193659091963],\"y\":[0,0.8],\"type\":\"scatter\"},{\"x\":[8.021806340908038,8.021806340908038],\"y\":[0,0.8],\"type\":\"scatter\"},{\"x\":[6.197,6.197],\"y\":[0,0.8],\"type\":\"scatter\"},{\"x\":[6.134910878918254,6.134910878918254],\"y\":[0,0.8],\"type\":\"scatter\"}],                        {\"barmode\":\"overlay\",\"hovermode\":\"closest\",\"legend\":{\"traceorder\":\"reversed\"},\"xaxis\":{\"anchor\":\"y2\",\"domain\":[0.0,1.0],\"zeroline\":false},\"yaxis\":{\"anchor\":\"free\",\"domain\":[0.35,1],\"position\":0.0},\"yaxis2\":{\"anchor\":\"x\",\"domain\":[0,0.25],\"dtick\":1,\"showticklabels\":false},\"template\":{\"data\":{\"bar\":[{\"error_x\":{\"color\":\"#2a3f5f\"},\"error_y\":{\"color\":\"#2a3f5f\"},\"marker\":{\"line\":{\"color\":\"#E5ECF6\",\"width\":0.5},\"pattern\":{\"fillmode\":\"overlay\",\"size\":10,\"solidity\":0.2}},\"type\":\"bar\"}],\"barpolar\":[{\"marker\":{\"line\":{\"color\":\"#E5ECF6\",\"width\":0.5},\"pattern\":{\"fillmode\":\"overlay\",\"size\":10,\"solidity\":0.2}},\"type\":\"barpolar\"}],\"carpet\":[{\"aaxis\":{\"endlinecolor\":\"#2a3f5f\",\"gridcolor\":\"white\",\"linecolor\":\"white\",\"minorgridcolor\":\"white\",\"startlinecolor\":\"#2a3f5f\"},\"baxis\":{\"endlinecolor\":\"#2a3f5f\",\"gridcolor\":\"white\",\"linecolor\":\"white\",\"minorgridcolor\":\"white\",\"startlinecolor\":\"#2a3f5f\"},\"type\":\"carpet\"}],\"choropleth\":[{\"colorbar\":{\"outlinewidth\":0,\"ticks\":\"\"},\"type\":\"choropleth\"}],\"contour\":[{\"colorbar\":{\"outlinewidth\":0,\"ticks\":\"\"},\"colorscale\":[[0.0,\"#0d0887\"],[0.1111111111111111,\"#46039f\"],[0.2222222222222222,\"#7201a8\"],[0.3333333333333333,\"#9c179e\"],[0.4444444444444444,\"#bd3786\"],[0.5555555555555556,\"#d8576b\"],[0.6666666666666666,\"#ed7953\"],[0.7777777777777778,\"#fb9f3a\"],[0.8888888888888888,\"#fdca26\"],[1.0,\"#f0f921\"]],\"type\":\"contour\"}],\"contourcarpet\":[{\"colorbar\":{\"outlinewidth\":0,\"ticks\":\"\"},\"type\":\"contourcarpet\"}],\"heatmap\":[{\"colorbar\":{\"outlinewidth\":0,\"ticks\":\"\"},\"colorscale\":[[0.0,\"#0d0887\"],[0.1111111111111111,\"#46039f\"],[0.2222222222222222,\"#7201a8\"],[0.3333333333333333,\"#9c179e\"],[0.4444444444444444,\"#bd3786\"],[0.5555555555555556,\"#d8576b\"],[0.6666666666666666,\"#ed7953\"],[0.7777777777777778,\"#fb9f3a\"],[0.8888888888888888,\"#fdca26\"],[1.0,\"#f0f921\"]],\"type\":\"heatmap\"}],\"heatmapgl\":[{\"colorbar\":{\"outlinewidth\":0,\"ticks\":\"\"},\"colorscale\":[[0.0,\"#0d0887\"],[0.1111111111111111,\"#46039f\"],[0.2222222222222222,\"#7201a8\"],[0.3333333333333333,\"#9c179e\"],[0.4444444444444444,\"#bd3786\"],[0.5555555555555556,\"#d8576b\"],[0.6666666666666666,\"#ed7953\"],[0.7777777777777778,\"#fb9f3a\"],[0.8888888888888888,\"#fdca26\"],[1.0,\"#f0f921\"]],\"type\":\"heatmapgl\"}],\"histogram\":[{\"marker\":{\"pattern\":{\"fillmode\":\"overlay\",\"size\":10,\"solidity\":0.2}},\"type\":\"histogram\"}],\"histogram2d\":[{\"colorbar\":{\"outlinewidth\":0,\"ticks\":\"\"},\"colorscale\":[[0.0,\"#0d0887\"],[0.1111111111111111,\"#46039f\"],[0.2222222222222222,\"#7201a8\"],[0.3333333333333333,\"#9c179e\"],[0.4444444444444444,\"#bd3786\"],[0.5555555555555556,\"#d8576b\"],[0.6666666666666666,\"#ed7953\"],[0.7777777777777778,\"#fb9f3a\"],[0.8888888888888888,\"#fdca26\"],[1.0,\"#f0f921\"]],\"type\":\"histogram2d\"}],\"histogram2dcontour\":[{\"colorbar\":{\"outlinewidth\":0,\"ticks\":\"\"},\"colorscale\":[[0.0,\"#0d0887\"],[0.1111111111111111,\"#46039f\"],[0.2222222222222222,\"#7201a8\"],[0.3333333333333333,\"#9c179e\"],[0.4444444444444444,\"#bd3786\"],[0.5555555555555556,\"#d8576b\"],[0.6666666666666666,\"#ed7953\"],[0.7777777777777778,\"#fb9f3a\"],[0.8888888888888888,\"#fdca26\"],[1.0,\"#f0f921\"]],\"type\":\"histogram2dcontour\"}],\"mesh3d\":[{\"colorbar\":{\"outlinewidth\":0,\"ticks\":\"\"},\"type\":\"mesh3d\"}],\"parcoords\":[{\"line\":{\"colorbar\":{\"outlinewidth\":0,\"ticks\":\"\"}},\"type\":\"parcoords\"}],\"pie\":[{\"automargin\":true,\"type\":\"pie\"}],\"scatter\":[{\"marker\":{\"colorbar\":{\"outlinewidth\":0,\"ticks\":\"\"}},\"type\":\"scatter\"}],\"scatter3d\":[{\"line\":{\"colorbar\":{\"outlinewidth\":0,\"ticks\":\"\"}},\"marker\":{\"colorbar\":{\"outlinewidth\":0,\"ticks\":\"\"}},\"type\":\"scatter3d\"}],\"scattercarpet\":[{\"marker\":{\"colorbar\":{\"outlinewidth\":0,\"ticks\":\"\"}},\"type\":\"scattercarpet\"}],\"scattergeo\":[{\"marker\":{\"colorbar\":{\"outlinewidth\":0,\"ticks\":\"\"}},\"type\":\"scattergeo\"}],\"scattergl\":[{\"marker\":{\"colorbar\":{\"outlinewidth\":0,\"ticks\":\"\"}},\"type\":\"scattergl\"}],\"scattermapbox\":[{\"marker\":{\"colorbar\":{\"outlinewidth\":0,\"ticks\":\"\"}},\"type\":\"scattermapbox\"}],\"scatterpolar\":[{\"marker\":{\"colorbar\":{\"outlinewidth\":0,\"ticks\":\"\"}},\"type\":\"scatterpolar\"}],\"scatterpolargl\":[{\"marker\":{\"colorbar\":{\"outlinewidth\":0,\"ticks\":\"\"}},\"type\":\"scatterpolargl\"}],\"scatterternary\":[{\"marker\":{\"colorbar\":{\"outlinewidth\":0,\"ticks\":\"\"}},\"type\":\"scatterternary\"}],\"surface\":[{\"colorbar\":{\"outlinewidth\":0,\"ticks\":\"\"},\"colorscale\":[[0.0,\"#0d0887\"],[0.1111111111111111,\"#46039f\"],[0.2222222222222222,\"#7201a8\"],[0.3333333333333333,\"#9c179e\"],[0.4444444444444444,\"#bd3786\"],[0.5555555555555556,\"#d8576b\"],[0.6666666666666666,\"#ed7953\"],[0.7777777777777778,\"#fb9f3a\"],[0.8888888888888888,\"#fdca26\"],[1.0,\"#f0f921\"]],\"type\":\"surface\"}],\"table\":[{\"cells\":{\"fill\":{\"color\":\"#EBF0F8\"},\"line\":{\"color\":\"white\"}},\"header\":{\"fill\":{\"color\":\"#C8D4E3\"},\"line\":{\"color\":\"white\"}},\"type\":\"table\"}]},\"layout\":{\"annotationdefaults\":{\"arrowcolor\":\"#2a3f5f\",\"arrowhead\":0,\"arrowwidth\":1},\"autotypenumbers\":\"strict\",\"coloraxis\":{\"colorbar\":{\"outlinewidth\":0,\"ticks\":\"\"}},\"colorscale\":{\"diverging\":[[0,\"#8e0152\"],[0.1,\"#c51b7d\"],[0.2,\"#de77ae\"],[0.3,\"#f1b6da\"],[0.4,\"#fde0ef\"],[0.5,\"#f7f7f7\"],[0.6,\"#e6f5d0\"],[0.7,\"#b8e186\"],[0.8,\"#7fbc41\"],[0.9,\"#4d9221\"],[1,\"#276419\"]],\"sequential\":[[0.0,\"#0d0887\"],[0.1111111111111111,\"#46039f\"],[0.2222222222222222,\"#7201a8\"],[0.3333333333333333,\"#9c179e\"],[0.4444444444444444,\"#bd3786\"],[0.5555555555555556,\"#d8576b\"],[0.6666666666666666,\"#ed7953\"],[0.7777777777777778,\"#fb9f3a\"],[0.8888888888888888,\"#fdca26\"],[1.0,\"#f0f921\"]],\"sequentialminus\":[[0.0,\"#0d0887\"],[0.1111111111111111,\"#46039f\"],[0.2222222222222222,\"#7201a8\"],[0.3333333333333333,\"#9c179e\"],[0.4444444444444444,\"#bd3786\"],[0.5555555555555556,\"#d8576b\"],[0.6666666666666666,\"#ed7953\"],[0.7777777777777778,\"#fb9f3a\"],[0.8888888888888888,\"#fdca26\"],[1.0,\"#f0f921\"]]},\"colorway\":[\"#636efa\",\"#EF553B\",\"#00cc96\",\"#ab63fa\",\"#FFA15A\",\"#19d3f3\",\"#FF6692\",\"#B6E880\",\"#FF97FF\",\"#FECB52\"],\"font\":{\"color\":\"#2a3f5f\"},\"geo\":{\"bgcolor\":\"white\",\"lakecolor\":\"white\",\"landcolor\":\"#E5ECF6\",\"showlakes\":true,\"showland\":true,\"subunitcolor\":\"white\"},\"hoverlabel\":{\"align\":\"left\"},\"hovermode\":\"closest\",\"mapbox\":{\"style\":\"light\"},\"paper_bgcolor\":\"white\",\"plot_bgcolor\":\"#E5ECF6\",\"polar\":{\"angularaxis\":{\"gridcolor\":\"white\",\"linecolor\":\"white\",\"ticks\":\"\"},\"bgcolor\":\"#E5ECF6\",\"radialaxis\":{\"gridcolor\":\"white\",\"linecolor\":\"white\",\"ticks\":\"\"}},\"scene\":{\"xaxis\":{\"backgroundcolor\":\"#E5ECF6\",\"gridcolor\":\"white\",\"gridwidth\":2,\"linecolor\":\"white\",\"showbackground\":true,\"ticks\":\"\",\"zerolinecolor\":\"white\"},\"yaxis\":{\"backgroundcolor\":\"#E5ECF6\",\"gridcolor\":\"white\",\"gridwidth\":2,\"linecolor\":\"white\",\"showbackground\":true,\"ticks\":\"\",\"zerolinecolor\":\"white\"},\"zaxis\":{\"backgroundcolor\":\"#E5ECF6\",\"gridcolor\":\"white\",\"gridwidth\":2,\"linecolor\":\"white\",\"showbackground\":true,\"ticks\":\"\",\"zerolinecolor\":\"white\"}},\"shapedefaults\":{\"line\":{\"color\":\"#2a3f5f\"}},\"ternary\":{\"aaxis\":{\"gridcolor\":\"white\",\"linecolor\":\"white\",\"ticks\":\"\"},\"baxis\":{\"gridcolor\":\"white\",\"linecolor\":\"white\",\"ticks\":\"\"},\"bgcolor\":\"#E5ECF6\",\"caxis\":{\"gridcolor\":\"white\",\"linecolor\":\"white\",\"ticks\":\"\"}},\"title\":{\"x\":0.05},\"xaxis\":{\"automargin\":true,\"gridcolor\":\"white\",\"linecolor\":\"white\",\"ticks\":\"\",\"title\":{\"standoff\":15},\"zerolinecolor\":\"white\",\"zerolinewidth\":2},\"yaxis\":{\"automargin\":true,\"gridcolor\":\"white\",\"linecolor\":\"white\",\"ticks\":\"\",\"title\":{\"standoff\":15},\"zerolinecolor\":\"white\",\"zerolinewidth\":2}}}},                        {\"responsive\": true}                    ).then(function(){\n",
              "                            \n",
              "var gd = document.getElementById('a28d0f58-74ab-47e4-930f-c88305e21495');\n",
              "var x = new MutationObserver(function (mutations, observer) {{\n",
              "        var display = window.getComputedStyle(gd).display;\n",
              "        if (!display || display === 'none') {{\n",
              "            console.log([gd, 'removed!']);\n",
              "            Plotly.purge(gd);\n",
              "            observer.disconnect();\n",
              "        }}\n",
              "}});\n",
              "\n",
              "// Listen for the removal of the full notebook cells\n",
              "var notebookContainer = gd.closest('#notebook-container');\n",
              "if (notebookContainer) {{\n",
              "    x.observe(notebookContainer, {childList: true});\n",
              "}}\n",
              "\n",
              "// Listen for the clearing of the current output cell\n",
              "var outputEl = gd.closest('.output');\n",
              "if (outputEl) {{\n",
              "    x.observe(outputEl, {childList: true});\n",
              "}}\n",
              "\n",
              "                        })                };                            </script>        </div>\n",
              "</body>\n",
              "</html>"
            ]
          },
          "metadata": {}
        }
      ]
    }
  ]
}